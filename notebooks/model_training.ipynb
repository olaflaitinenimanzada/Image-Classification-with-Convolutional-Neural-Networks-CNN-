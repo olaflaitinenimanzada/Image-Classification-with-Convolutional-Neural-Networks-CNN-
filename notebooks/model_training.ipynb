# Model Training

This notebook is used for training the model.
